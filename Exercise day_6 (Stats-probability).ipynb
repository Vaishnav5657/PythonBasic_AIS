{
 "cells": [
  {
   "cell_type": "markdown",
   "id": "c67365bb",
   "metadata": {},
   "source": [
    "# probability = no. of success / total possible outcomes\n",
    "\n",
    "* Dice has thrown = [1,2,3,4,5,6]\n",
    "p= 1/6\n",
    "\n",
    "* Coin tossed = [H,T]\n",
    "p=1/2\n",
    "\n",
    "* Cards = 52\n",
    "spades = A-10,J,K,Q\n",
    "clubs = A-10,J,K,Q\n",
    "heart = A-10,J,K,Q\n",
    "diamond = A-10,J,K,Q\n",
    "\n",
    "1. random card pick =1/52\n",
    "2. 1 king= 4/52\n",
    "3. face card= 12/52\n",
    "\n",
    "* Choosing a random number between 1 and 10 and getting an even number.\n",
    "\n",
    "* Selecting a random person and them being taller than 6 feet.\n"
   ]
  },
  {
   "cell_type": "code",
   "execution_count": null,
   "id": "17b2fd1a",
   "metadata": {},
   "outputs": [],
   "source": []
  }
 ],
 "metadata": {
  "kernelspec": {
   "display_name": "Python 3 (ipykernel)",
   "language": "python",
   "name": "python3"
  },
  "language_info": {
   "codemirror_mode": {
    "name": "ipython",
    "version": 3
   },
   "file_extension": ".py",
   "mimetype": "text/x-python",
   "name": "python",
   "nbconvert_exporter": "python",
   "pygments_lexer": "ipython3",
   "version": "3.9.12"
  }
 },
 "nbformat": 4,
 "nbformat_minor": 5
}
