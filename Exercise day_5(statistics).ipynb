{
 "cells": [
  {
   "cell_type": "markdown",
   "id": "48971362",
   "metadata": {},
   "source": [
    "# Statistics - core"
   ]
  },
  {
   "cell_type": "markdown",
   "id": "7de6c397",
   "metadata": {},
   "source": [
    "* Categorical Data: (Qualitative data)\n",
    "    * Nominal data\n",
    "    * Ordinal data\n",
    "    \n",
    "* Numerical Data: (Quantitative data)\n",
    "    * Discrete data\n",
    "    * Continuous data"
   ]
  },
  {
   "cell_type": "markdown",
   "id": "f8abf8df",
   "metadata": {},
   "source": [
    "* Example of Nominal data\n",
    "    1. Gender\n",
    "    2. People names\n",
    "    3. Marital status\n",
    "    4. Fruits names\n",
    "    5. Nationality\n",
    "    \n",
    "* Example of ordinal data\n",
    "    1. Ratings of Pictures\n",
    "    2. Grades in exam\n",
    "    3. Ranking in competition\n",
    "    4. Educational level\n",
    "    5. Level of measurement\n",
    "    \n",
    "* Example of Discrete data\n",
    "    1. Total no. of students in the class\n",
    "    2. Days in week\n",
    "    3. Population in city / village\n",
    "    4. Number of players in cricket team\n",
    "    5. Votes in election\n",
    "    \n",
    "* Example of Continuous data\n",
    "    1. Market share price\n",
    "    2. Height of person\n",
    "    3. Speed of a vehicle\n",
    "    4. Weight of person\n",
    "    5. Price of petrol\n",
    "    \n",
    "    "
   ]
  },
  {
   "cell_type": "code",
   "execution_count": null,
   "id": "57ecfa40",
   "metadata": {},
   "outputs": [],
   "source": [
    "# Blood Group Checking\n",
    "* Population: All blood from person body\n",
    "* Sample: randomly take 2-3 drops from all blood\n",
    "\n",
    "# Product Quality checking\n",
    "* Population: All cars manufactured by a company in a year.\n",
    "* Sample: A randomly selected group of 100 cars from the production line."
   ]
  }
 ],
 "metadata": {
  "kernelspec": {
   "display_name": "Python 3 (ipykernel)",
   "language": "python",
   "name": "python3"
  },
  "language_info": {
   "codemirror_mode": {
    "name": "ipython",
    "version": 3
   },
   "file_extension": ".py",
   "mimetype": "text/x-python",
   "name": "python",
   "nbconvert_exporter": "python",
   "pygments_lexer": "ipython3",
   "version": "3.9.12"
  }
 },
 "nbformat": 4,
 "nbformat_minor": 5
}
