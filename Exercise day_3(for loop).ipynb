{
 "cells": [
  {
   "cell_type": "code",
   "execution_count": 6,
   "id": "78e09ce2",
   "metadata": {},
   "outputs": [
    {
     "name": "stdout",
     "output_type": "stream",
     "text": [
      "1\n",
      "2\n",
      "3\n",
      "4\n",
      "5\n",
      "6\n",
      "2\n",
      "3\n",
      "4\n",
      "5\n",
      "6\n",
      "7\n",
      "3\n",
      "4\n",
      "5\n",
      "6\n",
      "7\n",
      "8\n",
      "4\n",
      "5\n",
      "6\n",
      "7\n",
      "8\n",
      "9\n",
      "5\n",
      "6\n",
      "7\n",
      "8\n",
      "9\n",
      "10\n"
     ]
    }
   ],
   "source": [
    "#Q.1\n",
    "\n",
    "for i in range(1,6):\n",
    "    for x in range(6):\n",
    "        x += i\n",
    "        print(x)"
   ]
  },
  {
   "cell_type": "code",
   "execution_count": 7,
   "id": "837ef586",
   "metadata": {
    "scrolled": true
   },
   "outputs": [
    {
     "name": "stdout",
     "output_type": "stream",
     "text": [
      "[1, 2, 3, 4, 5, 6, 7, 8, 9, 10, 11, 12, 13, 14, 15, 16, 17, 18, 19, 20]\n"
     ]
    }
   ],
   "source": [
    "#Q.2 Create a list of 1 to 20 numbers using for loop [1,2,3,..20].\n",
    "\n",
    "x=[]\n",
    "for i in range (1,21,1):\n",
    "    x.append(i)\n",
    "print(x)"
   ]
  },
  {
   "cell_type": "code",
   "execution_count": 5,
   "id": "ea1fe6fe",
   "metadata": {},
   "outputs": [
    {
     "name": "stdout",
     "output_type": "stream",
     "text": [
      "[20, 19, 18, 17, 16, 15, 14, 13, 12, 11, 10, 9, 8, 7, 6, 5, 4, 3, 2, 1]\n"
     ]
    }
   ],
   "source": [
    "#Q.3 Create a list of 20 to 1 value using for loop (Don't use reverse). \n",
    "\n",
    "x=[]\n",
    "for i in range (20,0,-1):\n",
    "    x.append(i)\n",
    "print(x)"
   ]
  },
  {
   "cell_type": "code",
   "execution_count": 3,
   "id": "aa858299",
   "metadata": {},
   "outputs": [
    {
     "name": "stdout",
     "output_type": "stream",
     "text": [
      "9261\n",
      "12167\n",
      "15625\n",
      "19683\n",
      "24389\n",
      "29791\n",
      "35937\n",
      "42875\n",
      "50653\n",
      "59319\n"
     ]
    }
   ],
   "source": [
    "#Q.4 Cube of odd values between 20 to 40.\n",
    "\n",
    "for x in range (20,41):\n",
    "    if x%2!=0:\n",
    "        print(x**3)"
   ]
  },
  {
   "cell_type": "code",
   "execution_count": 12,
   "id": "c6d6af0d",
   "metadata": {},
   "outputs": [
    {
     "name": "stdout",
     "output_type": "stream",
     "text": [
      "My name is A,my age is 20\n",
      "My name is B,my age is 21\n",
      "My name is C,my age is 22\n",
      "My name is D,my age is 23\n",
      "My name is E,my age is 24\n"
     ]
    }
   ],
   "source": [
    "#Q.5 Take 5 friends name in list name=[a,b,c,d,e] and take corresponding age in second list age =[20,21,22,23,24].\n",
    "\n",
    "name=[\"A\",\"B\",\"C\",\"D\",\"E\"]\n",
    "age=[20,21,22,23,24]\n",
    "\n",
    "for i,j in zip(name,age):\n",
    "    print(f\"My name is {i},my age is {j}\")\n"
   ]
  },
  {
   "cell_type": "code",
   "execution_count": 11,
   "id": "c1081349",
   "metadata": {},
   "outputs": [
    {
     "name": "stdout",
     "output_type": "stream",
     "text": [
      "[7, 2, 3, 4, 5, 6, 1]\n"
     ]
    }
   ],
   "source": [
    "#Q.6 Given a list write a code to swap first to last element od the list.\n",
    "\n",
    "list=[1,2,3,4,5,6,7]\n",
    "def swap(list):\n",
    "    if len(list)>=2:\n",
    "        i = list[0]\n",
    "        list[0]=list[6]\n",
    "        list[6]=i\n",
    "    return list\n",
    "\n",
    "result=swap(list)\n",
    "print(result)"
   ]
  },
  {
   "cell_type": "code",
   "execution_count": 19,
   "id": "54925342",
   "metadata": {},
   "outputs": [
    {
     "name": "stdout",
     "output_type": "stream",
     "text": [
      "12\n"
     ]
    }
   ],
   "source": [
    "#Q.7 Write a code count length of String\n",
    "\n",
    "str= \"AIS Solution\"\n",
    "len =0 \n",
    "for i in str:\n",
    "    len += 1\n",
    "print(len)"
   ]
  },
  {
   "cell_type": "code",
   "execution_count": 18,
   "id": "80eee00f",
   "metadata": {},
   "outputs": [
    {
     "name": "stdout",
     "output_type": "stream",
     "text": [
      "15\n"
     ]
    }
   ],
   "source": [
    "#Q.8 Write a code get the sum of a only non-negative integer. ex[1,4,-5,-20,10]\n",
    "\n",
    "i=[1,4,-5,-20,10]\n",
    "sum=0\n",
    "for x in i:\n",
    "    if x>=0:\n",
    "        sum= sum+x\n",
    "print(sum)"
   ]
  },
  {
   "cell_type": "code",
   "execution_count": 1,
   "id": "3961ab52",
   "metadata": {},
   "outputs": [
    {
     "name": "stdout",
     "output_type": "stream",
     "text": [
      "Factorial of 3 is 6\n"
     ]
    }
   ],
   "source": [
    "#Q.9 Write a code Factorial\n",
    "\n",
    "number = 3\n",
    "\n",
    "factorial = 1\n",
    "for i in range(1,number+1):\n",
    "    factorial = factorial * i\n",
    "print(\"Factorial of\" , number,\"is\",factorial)"
   ]
  },
  {
   "cell_type": "code",
   "execution_count": null,
   "id": "a51c4c6b",
   "metadata": {},
   "outputs": [],
   "source": []
  }
 ],
 "metadata": {
  "kernelspec": {
   "display_name": "Python 3 (ipykernel)",
   "language": "python",
   "name": "python3"
  },
  "language_info": {
   "codemirror_mode": {
    "name": "ipython",
    "version": 3
   },
   "file_extension": ".py",
   "mimetype": "text/x-python",
   "name": "python",
   "nbconvert_exporter": "python",
   "pygments_lexer": "ipython3",
   "version": "3.9.12"
  }
 },
 "nbformat": 4,
 "nbformat_minor": 5
}
