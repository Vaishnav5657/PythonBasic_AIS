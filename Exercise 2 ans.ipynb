{
 "cells": [
  {
   "cell_type": "code",
   "execution_count": 1,
   "id": "82b666fb",
   "metadata": {},
   "outputs": [],
   "source": [
    "#Q1."
   ]
  },
  {
   "cell_type": "code",
   "execution_count": 3,
   "id": "f1279a62",
   "metadata": {},
   "outputs": [
    {
     "name": "stdout",
     "output_type": "stream",
     "text": [
      "Enter your marks and get the grade:66.66\n",
      "your grade is A\n"
     ]
    }
   ],
   "source": [
    "x=float(input(\"Enter your marks and get the grade:\"))\n",
    "\n",
    "if x>=35:\n",
    "    if x>70:\n",
    "        print(\"Congratulations your grade is A+\")\n",
    "    elif 70>x>=60:\n",
    "        print(\"your grade is A\")\n",
    "    elif 60>x>=50:\n",
    "        print(\"your grade is B\")\n",
    "    else:\n",
    "        print(\"your grade is C\")\n",
    "else:\n",
    "    print(\"You are Fail.\")"
   ]
  },
  {
   "cell_type": "code",
   "execution_count": 4,
   "id": "54b77e72",
   "metadata": {},
   "outputs": [],
   "source": [
    "#Q.2"
   ]
  },
  {
   "cell_type": "code",
   "execution_count": 6,
   "id": "df41ed40",
   "metadata": {},
   "outputs": [
    {
     "name": "stdout",
     "output_type": "stream",
     "text": [
      "Not divisible by 2 and 3\n"
     ]
    }
   ],
   "source": [
    "num = int(11.5)\n",
    "if num%2 == 0:\n",
    "   if num%3 == 0:\n",
    "      print (\"Divisible by 2 and 3\")\n",
    "   else:\n",
    "      print (\"Divisible by 2 but not divisible by 3\")\n",
    "else:\n",
    "   if num%3 == 0:\n",
    "      print (\"Divisible by 3 but not divisible by 2\")\n",
    "   else:\n",
    "      print  (\"Not divisible by 2 and 3\")"
   ]
  },
  {
   "cell_type": "code",
   "execution_count": null,
   "id": "4f50bbd1",
   "metadata": {},
   "outputs": [],
   "source": []
  },
  {
   "cell_type": "code",
   "execution_count": null,
   "id": "4e735fd7",
   "metadata": {},
   "outputs": [],
   "source": []
  },
  {
   "cell_type": "code",
   "execution_count": null,
   "id": "e7dad3ed",
   "metadata": {},
   "outputs": [],
   "source": []
  }
 ],
 "metadata": {
  "kernelspec": {
   "display_name": "Python 3 (ipykernel)",
   "language": "python",
   "name": "python3"
  },
  "language_info": {
   "codemirror_mode": {
    "name": "ipython",
    "version": 3
   },
   "file_extension": ".py",
   "mimetype": "text/x-python",
   "name": "python",
   "nbconvert_exporter": "python",
   "pygments_lexer": "ipython3",
   "version": "3.9.12"
  }
 },
 "nbformat": 4,
 "nbformat_minor": 5
}
