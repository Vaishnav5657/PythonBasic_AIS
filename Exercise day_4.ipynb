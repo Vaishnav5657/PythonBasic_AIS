{
 "cells": [
  {
   "cell_type": "code",
   "execution_count": 1,
   "id": "dd207d10",
   "metadata": {},
   "outputs": [],
   "source": [
    "#Q.1 Substraction  of 2 values (sub)\n",
    "\n",
    "def sub(n1,n2):\n",
    "    s=n1-n2\n",
    "    print(s)"
   ]
  },
  {
   "cell_type": "code",
   "execution_count": 2,
   "id": "dc9e4747",
   "metadata": {},
   "outputs": [
    {
     "name": "stdout",
     "output_type": "stream",
     "text": [
      "3\n"
     ]
    }
   ],
   "source": [
    "sub(10,7)"
   ]
  },
  {
   "cell_type": "code",
   "execution_count": 3,
   "id": "2bcbef19",
   "metadata": {},
   "outputs": [],
   "source": [
    "#Q.2 multiplication on 3  values (mult)\n",
    "\n",
    "def mult(a,b,c):\n",
    "    m=a*b*c\n",
    "    print(m)"
   ]
  },
  {
   "cell_type": "code",
   "execution_count": 4,
   "id": "788b4727",
   "metadata": {},
   "outputs": [
    {
     "name": "stdout",
     "output_type": "stream",
     "text": [
      "24\n"
     ]
    }
   ],
   "source": [
    "mult(2,3,4)"
   ]
  },
  {
   "cell_type": "code",
   "execution_count": 5,
   "id": "6ab7c702",
   "metadata": {},
   "outputs": [],
   "source": [
    "#Q.3 power fuction eg. 2 raised to 3, 5 raised to 4, base raised to power\n",
    "\n",
    "def pow(a,b):\n",
    "    p=a**b\n",
    "    print(p)"
   ]
  },
  {
   "cell_type": "code",
   "execution_count": 6,
   "id": "776536d3",
   "metadata": {},
   "outputs": [
    {
     "name": "stdout",
     "output_type": "stream",
     "text": [
      "81\n"
     ]
    }
   ],
   "source": [
    "pow(3,4)"
   ]
  },
  {
   "cell_type": "code",
   "execution_count": 7,
   "id": "cd9d1973",
   "metadata": {},
   "outputs": [],
   "source": [
    "#Q.4 cube of any value (cube)\n",
    "\n",
    "def cube(a):\n",
    "    c=a*a*a\n",
    "    print(c)"
   ]
  },
  {
   "cell_type": "code",
   "execution_count": 8,
   "id": "7e6ba051",
   "metadata": {},
   "outputs": [
    {
     "name": "stdout",
     "output_type": "stream",
     "text": [
      "125\n"
     ]
    }
   ],
   "source": [
    "cube(5)"
   ]
  },
  {
   "cell_type": "code",
   "execution_count": 17,
   "id": "e297a77f",
   "metadata": {},
   "outputs": [],
   "source": [
    "#Q.5 mean of given 5 values (mean)\n",
    "\n",
    "lst=[10,5,3,2,5]\n",
    "def mean(lst):\n",
    "    res=sum(lst) / len(lst)\n",
    "    print(res)\n",
    "    "
   ]
  },
  {
   "cell_type": "code",
   "execution_count": 18,
   "id": "ecfedf2d",
   "metadata": {},
   "outputs": [
    {
     "name": "stdout",
     "output_type": "stream",
     "text": [
      "5.0\n"
     ]
    }
   ],
   "source": [
    "mean(lst)"
   ]
  },
  {
   "cell_type": "code",
   "execution_count": null,
   "id": "e26a0873",
   "metadata": {},
   "outputs": [],
   "source": []
  },
  {
   "cell_type": "code",
   "execution_count": 11,
   "id": "ffb88206",
   "metadata": {},
   "outputs": [
    {
     "name": "stdout",
     "output_type": "stream",
     "text": [
      "Enter your first number:15\n",
      "Enter your second number:5\n",
      "Addition is: 20\n",
      "Subtraction is: 10\n",
      "Multiplication is: 75\n",
      "Division is: 3.0\n"
     ]
    }
   ],
   "source": [
    "#Q.6 Arithmetic operations of 2 values:add,sub,mul,div.\n",
    "\n",
    "num1=int(input(\"Enter your first number:\"))\n",
    "num2=int(input(\"Enter your second number:\"))\n",
    "\n",
    "def add(n1, n2):\n",
    "    return n1+n2\n",
    "\n",
    "def sub(n1, n2):\n",
    "    return n1-n2\n",
    "\n",
    "def mul(n1, n2):\n",
    "    return n1*n2\n",
    "\n",
    "def div(n1, n2):\n",
    "    return n1/n2\n",
    "\n",
    "print(\"Addition is:\",add(num1,num2))\n",
    "\n",
    "print(\"Subtraction is:\",sub(num1, num2))\n",
    "\n",
    "print(\"Multiplication is:\",mul(num1, num2))\n",
    "\n",
    "print(\"Division is:\",div(num1, num2))"
   ]
  },
  {
   "cell_type": "code",
   "execution_count": null,
   "id": "44667fc3",
   "metadata": {},
   "outputs": [],
   "source": []
  }
 ],
 "metadata": {
  "kernelspec": {
   "display_name": "Python 3 (ipykernel)",
   "language": "python",
   "name": "python3"
  },
  "language_info": {
   "codemirror_mode": {
    "name": "ipython",
    "version": 3
   },
   "file_extension": ".py",
   "mimetype": "text/x-python",
   "name": "python",
   "nbconvert_exporter": "python",
   "pygments_lexer": "ipython3",
   "version": "3.9.12"
  }
 },
 "nbformat": 4,
 "nbformat_minor": 5
}
